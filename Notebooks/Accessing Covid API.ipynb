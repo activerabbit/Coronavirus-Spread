{
 "cells": [
  {
   "cell_type": "code",
   "execution_count": 1,
   "metadata": {},
   "outputs": [],
   "source": [
    "import json\n",
    "import requests\n",
    "import pandas as pd\n",
    "import datetime as dt\n",
    "import os"
   ]
  },
  {
   "cell_type": "code",
   "execution_count": 2,
   "metadata": {},
   "outputs": [],
   "source": [
    "path = '..\\CovidData'\n",
    "os.chdir('..\\CovidData')"
   ]
  },
  {
   "cell_type": "code",
   "execution_count": 3,
   "metadata": {
    "scrolled": true
   },
   "outputs": [
    {
     "data": {
      "text/plain": [
       "{'data': [{'iso': 'CHN', 'name': 'China'},\n",
       "  {'iso': 'TWN', 'name': 'Taipei and environs'},\n",
       "  {'iso': 'USA', 'name': 'US'},\n",
       "  {'iso': 'JPN', 'name': 'Japan'},\n",
       "  {'iso': 'THA', 'name': 'Thailand'},\n",
       "  {'iso': 'KOR', 'name': 'Korea, South'},\n",
       "  {'iso': 'SGP', 'name': 'Singapore'},\n",
       "  {'iso': 'PHL', 'name': 'Philippines'},\n",
       "  {'iso': 'MYS', 'name': 'Malaysia'},\n",
       "  {'iso': 'VNM', 'name': 'Vietnam'},\n",
       "  {'iso': 'AUS', 'name': 'Australia'},\n",
       "  {'iso': 'MEX', 'name': 'Mexico'},\n",
       "  {'iso': 'BRA', 'name': 'Brazil'},\n",
       "  {'iso': 'COL', 'name': 'Colombia'},\n",
       "  {'iso': 'FRA', 'name': 'France'},\n",
       "  {'iso': 'NPL', 'name': 'Nepal'},\n",
       "  {'iso': 'CAN', 'name': 'Canada'},\n",
       "  {'iso': 'KHM', 'name': 'Cambodia'},\n",
       "  {'iso': 'LKA', 'name': 'Sri Lanka'},\n",
       "  {'iso': 'CIV', 'name': \"Cote d'Ivoire\"},\n",
       "  {'iso': 'DEU', 'name': 'Germany'},\n",
       "  {'iso': 'FIN', 'name': 'Finland'},\n",
       "  {'iso': 'ARE', 'name': 'United Arab Emirates'},\n",
       "  {'iso': 'IND', 'name': 'India'},\n",
       "  {'iso': 'ITA', 'name': 'Italy'},\n",
       "  {'iso': 'GBR', 'name': 'United Kingdom'},\n",
       "  {'iso': 'RUS', 'name': 'Russia'},\n",
       "  {'iso': 'SWE', 'name': 'Sweden'},\n",
       "  {'iso': 'ESP', 'name': 'Spain'},\n",
       "  {'iso': 'BEL', 'name': 'Belgium'},\n",
       "  {'iso': 'Others', 'name': 'Others'},\n",
       "  {'iso': 'EGY', 'name': 'Egypt'},\n",
       "  {'iso': 'IRN', 'name': 'Iran'},\n",
       "  {'iso': 'ISR', 'name': 'Israel'},\n",
       "  {'iso': 'LBN', 'name': 'Lebanon'},\n",
       "  {'iso': 'IRQ', 'name': 'Iraq'},\n",
       "  {'iso': 'OMN', 'name': 'Oman'},\n",
       "  {'iso': 'AFG', 'name': 'Afghanistan'},\n",
       "  {'iso': 'BHR', 'name': 'Bahrain'},\n",
       "  {'iso': 'KWT', 'name': 'Kuwait'},\n",
       "  {'iso': 'AUT', 'name': 'Austria'},\n",
       "  {'iso': 'DZA', 'name': 'Algeria'},\n",
       "  {'iso': 'HRV', 'name': 'Croatia'},\n",
       "  {'iso': 'CHE', 'name': 'Switzerland'},\n",
       "  {'iso': 'PAK', 'name': 'Pakistan'},\n",
       "  {'iso': 'GEO', 'name': 'Georgia'},\n",
       "  {'iso': 'GRC', 'name': 'Greece'},\n",
       "  {'iso': 'MKD', 'name': 'North Macedonia'},\n",
       "  {'iso': 'NOR', 'name': 'Norway'},\n",
       "  {'iso': 'ROU', 'name': 'Romania'},\n",
       "  {'iso': 'DNK', 'name': 'Denmark'},\n",
       "  {'iso': 'EST', 'name': 'Estonia'},\n",
       "  {'iso': 'NLD', 'name': 'Netherlands'},\n",
       "  {'iso': 'SMR', 'name': 'San Marino'},\n",
       "  {'iso': 'AZE', 'name': 'Azerbaijan'},\n",
       "  {'iso': 'BLR', 'name': 'Belarus'},\n",
       "  {'iso': 'ISL', 'name': 'Iceland'},\n",
       "  {'iso': 'LTU', 'name': 'Lithuania'},\n",
       "  {'iso': 'NZL', 'name': 'New Zealand'},\n",
       "  {'iso': 'NGA', 'name': 'Nigeria'},\n",
       "  {'iso': 'IRL', 'name': 'Ireland'},\n",
       "  {'iso': 'LUX', 'name': 'Luxembourg'},\n",
       "  {'iso': 'MCO', 'name': 'Monaco'},\n",
       "  {'iso': 'QAT', 'name': 'Qatar'},\n",
       "  {'iso': 'ECU', 'name': 'Ecuador'},\n",
       "  {'iso': 'CZE', 'name': 'Czechia'},\n",
       "  {'iso': 'ARM', 'name': 'Armenia'},\n",
       "  {'iso': 'DOM', 'name': 'Dominican Republic'},\n",
       "  {'iso': 'IDN', 'name': 'Indonesia'},\n",
       "  {'iso': 'PRT', 'name': 'Portugal'},\n",
       "  {'iso': 'AND', 'name': 'Andorra'},\n",
       "  {'iso': 'LVA', 'name': 'Latvia'},\n",
       "  {'iso': 'MAR', 'name': 'Morocco'},\n",
       "  {'iso': 'SAU', 'name': 'Saudi Arabia'},\n",
       "  {'iso': 'SEN', 'name': 'Senegal'},\n",
       "  {'iso': 'ARG', 'name': 'Argentina'},\n",
       "  {'iso': 'CHL', 'name': 'Chile'},\n",
       "  {'iso': 'JOR', 'name': 'Jordan'},\n",
       "  {'iso': 'UKR', 'name': 'Ukraine'},\n",
       "  {'iso': 'BLM', 'name': 'Saint Barthelemy'},\n",
       "  {'iso': 'HUN', 'name': 'Hungary'},\n",
       "  {'iso': 'FRO', 'name': 'Faroe Islands'},\n",
       "  {'iso': 'GIB', 'name': 'Gibraltar'},\n",
       "  {'iso': 'LIE', 'name': 'Liechtenstein'},\n",
       "  {'iso': 'POL', 'name': 'Poland'},\n",
       "  {'iso': 'TUN', 'name': 'Tunisia'},\n",
       "  {'iso': 'PSE', 'name': 'West Bank and Gaza'},\n",
       "  {'iso': 'BIH', 'name': 'Bosnia and Herzegovina'},\n",
       "  {'iso': 'SVN', 'name': 'Slovenia'},\n",
       "  {'iso': 'ZAF', 'name': 'South Africa'},\n",
       "  {'iso': 'BTN', 'name': 'Bhutan'},\n",
       "  {'iso': 'CMR', 'name': 'Cameroon'},\n",
       "  {'iso': 'CRI', 'name': 'Costa Rica'},\n",
       "  {'iso': 'PER', 'name': 'Peru'},\n",
       "  {'iso': 'SRB', 'name': 'Serbia'},\n",
       "  {'iso': 'SVK', 'name': 'Slovakia'},\n",
       "  {'iso': 'TGO', 'name': 'Togo'},\n",
       "  {'iso': 'VAT', 'name': 'Holy See'},\n",
       "  {'iso': 'GUF', 'name': 'French Guiana'},\n",
       "  {'iso': 'MLT', 'name': 'Malta'},\n",
       "  {'iso': 'MTQ', 'name': 'Martinique'},\n",
       "  {'iso': 'BGR', 'name': 'Bulgaria'},\n",
       "  {'iso': 'MDV', 'name': 'Maldives'},\n",
       "  {'iso': 'BGD', 'name': 'Bangladesh'},\n",
       "  {'iso': 'MDA', 'name': 'Moldova'},\n",
       "  {'iso': 'PRY', 'name': 'Paraguay'},\n",
       "  {'iso': 'ALB', 'name': 'Albania'},\n",
       "  {'iso': 'CYP', 'name': 'Cyprus'},\n",
       "  {'iso': 'BRN', 'name': 'Brunei'},\n",
       "  {'iso': 'MAC', 'name': 'Macao SAR'},\n",
       "  {'iso': 'MAF', 'name': 'Saint Martin'},\n",
       "  {'iso': 'BFA', 'name': 'Burkina Faso'},\n",
       "  {'iso': 'GGY-JEY', 'name': 'Channel Islands'},\n",
       "  {'iso': 'MNG', 'name': 'Mongolia'},\n",
       "  {'iso': 'PAN', 'name': 'Panama'},\n",
       "  {'iso': 'cruise', 'name': 'Cruise Ship'},\n",
       "  {'iso': 'TWN', 'name': 'Taiwan*'},\n",
       "  {'iso': 'BOL', 'name': 'Bolivia'},\n",
       "  {'iso': 'HND', 'name': 'Honduras'},\n",
       "  {'iso': 'COD', 'name': 'Congo (Kinshasa)'},\n",
       "  {'iso': 'JAM', 'name': 'Jamaica'},\n",
       "  {'iso': 'REU', 'name': 'Reunion'},\n",
       "  {'iso': 'TUR', 'name': 'Turkey'},\n",
       "  {'iso': 'CUB', 'name': 'Cuba'},\n",
       "  {'iso': 'GUY', 'name': 'Guyana'},\n",
       "  {'iso': 'KAZ', 'name': 'Kazakhstan'},\n",
       "  {'iso': 'CYM', 'name': 'Cayman Islands'},\n",
       "  {'iso': 'GLP', 'name': 'Guadeloupe'},\n",
       "  {'iso': 'ETH', 'name': 'Ethiopia'},\n",
       "  {'iso': 'SDN', 'name': 'Sudan'},\n",
       "  {'iso': 'GIN', 'name': 'Guinea'},\n",
       "  {'iso': 'ATG', 'name': 'Antigua and Barbuda'},\n",
       "  {'iso': 'ABW', 'name': 'Aruba'},\n",
       "  {'iso': 'KEN', 'name': 'Kenya'},\n",
       "  {'iso': 'URY', 'name': 'Uruguay'},\n",
       "  {'iso': 'GHA', 'name': 'Ghana'},\n",
       "  {'iso': 'JEY', 'name': 'Jersey'},\n",
       "  {'iso': 'NAM', 'name': 'Namibia'},\n",
       "  {'iso': 'SYC', 'name': 'Seychelles'},\n",
       "  {'iso': 'TTO', 'name': 'Trinidad and Tobago'},\n",
       "  {'iso': 'VEN', 'name': 'Venezuela'},\n",
       "  {'iso': 'CUW', 'name': 'Curacao'},\n",
       "  {'iso': 'SWZ', 'name': 'Eswatini'},\n",
       "  {'iso': 'GAB', 'name': 'Gabon'},\n",
       "  {'iso': 'GTM', 'name': 'Guatemala'},\n",
       "  {'iso': 'GGY', 'name': 'Guernsey'},\n",
       "  {'iso': 'MRT', 'name': 'Mauritania'},\n",
       "  {'iso': 'RWA', 'name': 'Rwanda'},\n",
       "  {'iso': 'LCA', 'name': 'Saint Lucia'},\n",
       "  {'iso': 'VCT', 'name': 'Saint Vincent and the Grenadines'},\n",
       "  {'iso': 'SUR', 'name': 'Suriname'},\n",
       "  {'iso': 'RKS', 'name': 'Kosovo'},\n",
       "  {'iso': 'CAF', 'name': 'Central African Republic'},\n",
       "  {'iso': 'COG', 'name': 'Congo (Brazzaville)'},\n",
       "  {'iso': 'GNQ', 'name': 'Equatorial Guinea'},\n",
       "  {'iso': 'UZB', 'name': 'Uzbekistan'},\n",
       "  {'iso': 'GUM', 'name': 'Guam'},\n",
       "  {'iso': 'PRI', 'name': 'Puerto Rico'},\n",
       "  {'iso': 'BEN', 'name': 'Benin'},\n",
       "  {'iso': 'GRL', 'name': 'Greenland'},\n",
       "  {'iso': 'LBR', 'name': 'Liberia'},\n",
       "  {'iso': 'MYT', 'name': 'Mayotte'},\n",
       "  {'iso': 'SOM', 'name': 'Somalia'},\n",
       "  {'iso': 'TZA', 'name': 'Tanzania'},\n",
       "  {'iso': 'BHS', 'name': 'Bahamas'},\n",
       "  {'iso': 'BRB', 'name': 'Barbados'},\n",
       "  {'iso': 'MNE', 'name': 'Montenegro'},\n",
       "  {'iso': 'GMB', 'name': 'Gambia'},\n",
       "  {'iso': 'KGZ', 'name': 'Kyrgyzstan'},\n",
       "  {'iso': 'MUS', 'name': 'Mauritius'},\n",
       "  {'iso': 'ZMB', 'name': 'Zambia'},\n",
       "  {'iso': 'DJI', 'name': 'Djibouti'},\n",
       "  {'iso': 'TCD', 'name': 'Chad'},\n",
       "  {'iso': 'SLV', 'name': 'El Salvador'},\n",
       "  {'iso': 'FJI', 'name': 'Fiji'},\n",
       "  {'iso': 'NIC', 'name': 'Nicaragua'},\n",
       "  {'iso': 'MDG', 'name': 'Madagascar'},\n",
       "  {'iso': 'HTI', 'name': 'Haiti'},\n",
       "  {'iso': 'AGO', 'name': 'Angola'},\n",
       "  {'iso': 'CPV', 'name': 'Cabo Verde'},\n",
       "  {'iso': 'NER', 'name': 'Niger'},\n",
       "  {'iso': 'PNG', 'name': 'Papua New Guinea'},\n",
       "  {'iso': 'ZWE', 'name': 'Zimbabwe'},\n",
       "  {'iso': 'TLS', 'name': 'Timor-Leste'},\n",
       "  {'iso': 'ERI', 'name': 'Eritrea'},\n",
       "  {'iso': 'UGA', 'name': 'Uganda'},\n",
       "  {'iso': 'DMA', 'name': 'Dominica'},\n",
       "  {'iso': 'GRD', 'name': 'Grenada'},\n",
       "  {'iso': 'MOZ', 'name': 'Mozambique'},\n",
       "  {'iso': 'SYR', 'name': 'Syria'},\n",
       "  {'iso': 'BLZ', 'name': 'Belize'},\n",
       "  {'iso': 'LAO', 'name': 'Laos'},\n",
       "  {'iso': 'LBY', 'name': 'Libya'},\n",
       "  {'iso': 'NA-SHIP-DP', 'name': 'Diamond Princess'},\n",
       "  {'iso': 'GNB', 'name': 'Guinea-Bissau'},\n",
       "  {'iso': 'MLI', 'name': 'Mali'},\n",
       "  {'iso': 'KNA', 'name': 'Saint Kitts and Nevis'},\n",
       "  {'iso': 'BWA', 'name': 'Botswana'},\n",
       "  {'iso': 'BDI', 'name': 'Burundi'},\n",
       "  {'iso': 'SLE', 'name': 'Sierra Leone'},\n",
       "  {'iso': 'MMR', 'name': 'Burma'},\n",
       "  {'iso': 'MWI', 'name': 'Malawi'},\n",
       "  {'iso': 'SSD', 'name': 'South Sudan'},\n",
       "  {'iso': 'ESH', 'name': 'Western Sahara'},\n",
       "  {'iso': 'STP', 'name': 'Sao Tome and Principe'},\n",
       "  {'iso': 'NA-SHIP-MSZ', 'name': 'MS Zaandam'},\n",
       "  {'iso': 'YEM', 'name': 'Yemen'},\n",
       "  {'iso': 'COM', 'name': 'Comoros'},\n",
       "  {'iso': 'TJK', 'name': 'Tajikistan'},\n",
       "  {'iso': 'LSO', 'name': 'Lesotho'}]}"
      ]
     },
     "execution_count": 3,
     "metadata": {},
     "output_type": "execute_result"
    }
   ],
   "source": [
    "#find the filter for USA through request\n",
    "url = 'https://covid-api.com/api/regions'\n",
    "response1 = requests.get(url = url)\n",
    "response1.json()"
   ]
  },
  {
   "cell_type": "code",
   "execution_count": 4,
   "metadata": {},
   "outputs": [
    {
     "name": "stdout",
     "output_type": "stream",
     "text": [
      "Number of Days: 128\n"
     ]
    }
   ],
   "source": [
    "#pull all data from 2020-01-20 to 2020-01-26\n",
    "date1 = '2020-01-20'\n",
    "date2 = '2020-05-26'\n",
    "start = dt.datetime.strptime(date1, '%Y-%m-%d')\n",
    "end = dt.datetime.strptime(date2, '%Y-%m-%d')\n",
    "step = dt.timedelta(days=1)\n",
    "date_list = []\n",
    "while start <= end:\n",
    "    date_list.append(str(start.date()))\n",
    "    start += step\n",
    "print(\"Number of Days: {}\".format(len(date_list)))"
   ]
  },
  {
   "cell_type": "code",
   "execution_count": 5,
   "metadata": {},
   "outputs": [],
   "source": [
    "#store each request as json file in storage\n",
    "storage = {}\n",
    "status_code = []\n",
    "#request to get the data\n",
    "url = 'https://covid-api.com/api/reports'\n",
    "for date in date_list:\n",
    "    params = {'iso': 'USA', 'date': '{}'.format(date)}\n",
    "    response = requests.get(url = url, params = params)\n",
    "    status_code.append(response.status_code)\n",
    "    results = response.json()\n",
    "    storage[date] = results"
   ]
  },
  {
   "cell_type": "code",
   "execution_count": 6,
   "metadata": {},
   "outputs": [
    {
     "data": {
      "text/plain": [
       "True"
      ]
     },
     "execution_count": 6,
     "metadata": {},
     "output_type": "execute_result"
    }
   ],
   "source": [
    "#return true if all requests were made\n",
    "len(storage) == len(date_list)"
   ]
  },
  {
   "cell_type": "code",
   "execution_count": 7,
   "metadata": {},
   "outputs": [
    {
     "name": "stdout",
     "output_type": "stream",
     "text": [
      "True\n"
     ]
    }
   ],
   "source": [
    "# return if all requests were made as expected\n",
    "mapper = map(lambda x: True if x == 200 else False, status_code)\n",
    "print(all(list(mapper)))"
   ]
  },
  {
   "cell_type": "code",
   "execution_count": 8,
   "metadata": {},
   "outputs": [],
   "source": [
    "with open('CovidData.json', 'w') as localfile:\n",
    "    json.dump(storage, localfile)"
   ]
  },
  {
   "cell_type": "code",
   "execution_count": null,
   "metadata": {},
   "outputs": [],
   "source": []
  }
 ],
 "metadata": {
  "kernelspec": {
   "display_name": "Python 3",
   "language": "python",
   "name": "python3"
  },
  "language_info": {
   "codemirror_mode": {
    "name": "ipython",
    "version": 3
   },
   "file_extension": ".py",
   "mimetype": "text/x-python",
   "name": "python",
   "nbconvert_exporter": "python",
   "pygments_lexer": "ipython3",
   "version": "3.7.7"
  }
 },
 "nbformat": 4,
 "nbformat_minor": 4
}
