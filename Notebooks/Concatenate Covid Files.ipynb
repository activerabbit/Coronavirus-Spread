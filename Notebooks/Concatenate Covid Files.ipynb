{
 "cells": [
  {
   "cell_type": "code",
   "execution_count": 1,
   "metadata": {},
   "outputs": [],
   "source": [
    "import pandas as pd\n",
    "import glob\n",
    "import numpy as np"
   ]
  },
  {
   "cell_type": "code",
   "execution_count": 2,
   "metadata": {},
   "outputs": [
    {
     "name": "stderr",
     "output_type": "stream",
     "text": [
      "C:\\Users\\sadmin\\Anaconda3\\lib\\site-packages\\ipykernel_launcher.py:10: FutureWarning: Sorting because non-concatenation axis is not aligned. A future version\n",
      "of pandas will change to not sort by default.\n",
      "\n",
      "To accept the future behavior, pass 'sort=False'.\n",
      "\n",
      "To retain the current behavior and silence the warning, pass 'sort=True'.\n",
      "\n",
      "  # Remove the CWD from sys.path while we load stuff.\n"
     ]
    }
   ],
   "source": [
    "#filenames identifier\n",
    "path = '..\\Data\\Raw'\n",
    "filenames = glob.glob(path + '/*2020.csv')\n",
    "\n",
    "#store in list\n",
    "files = []\n",
    "for filename in filenames:\n",
    "    df = pd.read_csv(filename, index_col = None)\n",
    "    files.append(df)\n",
    "df = pd.concat(files, ignore_index = True)"
   ]
  },
  {
   "cell_type": "code",
   "execution_count": 3,
   "metadata": {},
   "outputs": [
    {
     "name": "stdout",
     "output_type": "stream",
     "text": [
      "<class 'pandas.core.frame.DataFrame'>\n",
      "RangeIndex: 299603 entries, 0 to 299602\n",
      "Data columns (total 19 columns):\n",
      "Active                 291986 non-null float64\n",
      "Admin2                 258964 non-null object\n",
      "Case-Fatality_Ratio    75998 non-null float64\n",
      "Combined_Key           291986 non-null object\n",
      "Confirmed              299584 non-null float64\n",
      "Country/Region         7617 non-null object\n",
      "Country_Region         291986 non-null object\n",
      "Deaths                 299162 non-null float64\n",
      "FIPS                   258302 non-null float64\n",
      "Incidence_Rate         75627 non-null float64\n",
      "Last Update            7617 non-null object\n",
      "Last_Update            291986 non-null object\n",
      "Lat                    286821 non-null float64\n",
      "Latitude               4799 non-null float64\n",
      "Long_                  286821 non-null float64\n",
      "Longitude              4799 non-null float64\n",
      "Province/State         4358 non-null object\n",
      "Province_State         276216 non-null object\n",
      "Recovered              299215 non-null float64\n",
      "dtypes: float64(11), object(8)\n",
      "memory usage: 43.4+ MB\n"
     ]
    }
   ],
   "source": [
    "df.info()"
   ]
  },
  {
   "cell_type": "code",
   "execution_count": 4,
   "metadata": {},
   "outputs": [
    {
     "name": "stderr",
     "output_type": "stream",
     "text": [
      "C:\\Users\\sadmin\\Anaconda3\\lib\\site-packages\\ipykernel_launcher.py:4: SettingWithCopyWarning: \n",
      "A value is trying to be set on a copy of a slice from a DataFrame\n",
      "\n",
      "See the caveats in the documentation: http://pandas.pydata.org/pandas-docs/stable/user_guide/indexing.html#returning-a-view-versus-a-copy\n",
      "  after removing the cwd from sys.path.\n"
     ]
    }
   ],
   "source": [
    "def combine_column(dataframe, column1, column2):\n",
    "    for ind, row in dataframe.iterrows():\n",
    "        if row[column1] is np.nan:\n",
    "            dataframe[column1][ind] = dataframe[column2][ind]\n",
    "\n",
    "combine_column(df, 'Country_Region', 'Country/Region')\n",
    "combine_column(df, 'Last_Update', 'Last Update')\n",
    "combine_column(df, 'Lat', 'Latitude')\n",
    "combine_column(df, 'Long_', 'Longitude')\n",
    "combine_column(df, 'Province_State', 'Province/State')\n",
    "df = df.drop(columns = ['Country/Region', 'Last Update', 'Latitude', 'Longitude', 'Province/State'])"
   ]
  },
  {
   "cell_type": "code",
   "execution_count": 5,
   "metadata": {
    "scrolled": true
   },
   "outputs": [
    {
     "name": "stdout",
     "output_type": "stream",
     "text": [
      "<class 'pandas.core.frame.DataFrame'>\n",
      "RangeIndex: 299603 entries, 0 to 299602\n",
      "Data columns (total 14 columns):\n",
      "Active                 291986 non-null float64\n",
      "Admin2                 258964 non-null object\n",
      "Case-Fatality_Ratio    75998 non-null float64\n",
      "Combined_Key           291986 non-null object\n",
      "Confirmed              299584 non-null float64\n",
      "Country_Region         299603 non-null object\n",
      "Deaths                 299162 non-null float64\n",
      "FIPS                   258302 non-null float64\n",
      "Incidence_Rate         75627 non-null float64\n",
      "Last_Update            299603 non-null object\n",
      "Lat                    286821 non-null float64\n",
      "Long_                  286821 non-null float64\n",
      "Province_State         280574 non-null object\n",
      "Recovered              299215 non-null float64\n",
      "dtypes: float64(9), object(5)\n",
      "memory usage: 32.0+ MB\n"
     ]
    }
   ],
   "source": [
    "df.info()"
   ]
  },
  {
   "cell_type": "code",
   "execution_count": null,
   "metadata": {},
   "outputs": [],
   "source": []
  }
 ],
 "metadata": {
  "kernelspec": {
   "display_name": "Python 3",
   "language": "python",
   "name": "python3"
  },
  "language_info": {
   "codemirror_mode": {
    "name": "ipython",
    "version": 3
   },
   "file_extension": ".py",
   "mimetype": "text/x-python",
   "name": "python",
   "nbconvert_exporter": "python",
   "pygments_lexer": "ipython3",
   "version": "3.7.7"
  }
 },
 "nbformat": 4,
 "nbformat_minor": 4
}
