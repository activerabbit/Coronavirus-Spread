{
 "cells": [
  {
   "cell_type": "code",
   "execution_count": 1,
   "metadata": {},
   "outputs": [],
   "source": [
    "import pandas as pd\n",
    "import glob\n",
    "import numpy as np"
   ]
  },
  {
   "cell_type": "code",
   "execution_count": 2,
   "metadata": {},
   "outputs": [],
   "source": [
    "#set up path to all the files\n",
    "path = '../Data/Raw'\n",
    "all_files = glob.glob(path + '/*.csv')"
   ]
  },
  {
   "cell_type": "code",
   "execution_count": 3,
   "metadata": {},
   "outputs": [
    {
     "name": "stderr",
     "output_type": "stream",
     "text": [
      "C:\\Users\\sadmin\\Anaconda3\\lib\\site-packages\\ipykernel_launcher.py:5: FutureWarning: Sorting because non-concatenation axis is not aligned. A future version\n",
      "of pandas will change to not sort by default.\n",
      "\n",
      "To accept the future behavior, pass 'sort=False'.\n",
      "\n",
      "To retain the current behavior and silence the warning, pass 'sort=True'.\n",
      "\n",
      "  \"\"\"\n"
     ]
    }
   ],
   "source": [
    "list_df = []\n",
    "for file in all_files:\n",
    "    temp_df = pd.read_csv(file)\n",
    "    list_df.append(temp_df)\n",
    "df = pd.concat(list_df)"
   ]
  },
  {
   "cell_type": "code",
   "execution_count": 4,
   "metadata": {},
   "outputs": [
    {
     "data": {
      "text/html": [
       "<div>\n",
       "<style scoped>\n",
       "    .dataframe tbody tr th:only-of-type {\n",
       "        vertical-align: middle;\n",
       "    }\n",
       "\n",
       "    .dataframe tbody tr th {\n",
       "        vertical-align: top;\n",
       "    }\n",
       "\n",
       "    .dataframe thead th {\n",
       "        text-align: right;\n",
       "    }\n",
       "</style>\n",
       "<table border=\"1\" class=\"dataframe\">\n",
       "  <thead>\n",
       "    <tr style=\"text-align: right;\">\n",
       "      <th></th>\n",
       "      <th>Confirmed</th>\n",
       "      <th>Country</th>\n",
       "      <th>Country/Region</th>\n",
       "      <th>Date last updated</th>\n",
       "      <th>Death</th>\n",
       "      <th>Deaths</th>\n",
       "      <th>Last Update</th>\n",
       "      <th>Province/State</th>\n",
       "      <th>Recovered</th>\n",
       "      <th>Suspected</th>\n",
       "      <th>Unnamed: 0</th>\n",
       "    </tr>\n",
       "  </thead>\n",
       "  <tbody>\n",
       "    <tr>\n",
       "      <th>0</th>\n",
       "      <td>9.0</td>\n",
       "      <td>Mainland China</td>\n",
       "      <td>NaN</td>\n",
       "      <td>1/21/2020</td>\n",
       "      <td>NaN</td>\n",
       "      <td>0.0</td>\n",
       "      <td>NaN</td>\n",
       "      <td>Shanghai</td>\n",
       "      <td>0.0</td>\n",
       "      <td>10.0</td>\n",
       "      <td>0.0</td>\n",
       "    </tr>\n",
       "    <tr>\n",
       "      <th>1</th>\n",
       "      <td>1.0</td>\n",
       "      <td>Mainland China</td>\n",
       "      <td>NaN</td>\n",
       "      <td>1/21/2020</td>\n",
       "      <td>NaN</td>\n",
       "      <td>0.0</td>\n",
       "      <td>NaN</td>\n",
       "      <td>Yunnan</td>\n",
       "      <td>0.0</td>\n",
       "      <td>0.0</td>\n",
       "      <td>1.0</td>\n",
       "    </tr>\n",
       "    <tr>\n",
       "      <th>2</th>\n",
       "      <td>10.0</td>\n",
       "      <td>Mainland China</td>\n",
       "      <td>NaN</td>\n",
       "      <td>1/21/2020</td>\n",
       "      <td>NaN</td>\n",
       "      <td>0.0</td>\n",
       "      <td>NaN</td>\n",
       "      <td>Beijing</td>\n",
       "      <td>0.0</td>\n",
       "      <td>0.0</td>\n",
       "      <td>2.0</td>\n",
       "    </tr>\n",
       "    <tr>\n",
       "      <th>3</th>\n",
       "      <td>1.0</td>\n",
       "      <td>Taiwan</td>\n",
       "      <td>NaN</td>\n",
       "      <td>1/21/2020</td>\n",
       "      <td>NaN</td>\n",
       "      <td>0.0</td>\n",
       "      <td>NaN</td>\n",
       "      <td>Taiwan</td>\n",
       "      <td>0.0</td>\n",
       "      <td>0.0</td>\n",
       "      <td>3.0</td>\n",
       "    </tr>\n",
       "    <tr>\n",
       "      <th>4</th>\n",
       "      <td>0.0</td>\n",
       "      <td>Mainland China</td>\n",
       "      <td>NaN</td>\n",
       "      <td>1/21/2020</td>\n",
       "      <td>NaN</td>\n",
       "      <td>0.0</td>\n",
       "      <td>NaN</td>\n",
       "      <td>Jilin</td>\n",
       "      <td>0.0</td>\n",
       "      <td>1.0</td>\n",
       "      <td>4.0</td>\n",
       "    </tr>\n",
       "  </tbody>\n",
       "</table>\n",
       "</div>"
      ],
      "text/plain": [
       "   Confirmed         Country Country/Region Date last updated  Death  Deaths  \\\n",
       "0        9.0  Mainland China            NaN         1/21/2020    NaN     0.0   \n",
       "1        1.0  Mainland China            NaN         1/21/2020    NaN     0.0   \n",
       "2       10.0  Mainland China            NaN         1/21/2020    NaN     0.0   \n",
       "3        1.0          Taiwan            NaN         1/21/2020    NaN     0.0   \n",
       "4        0.0  Mainland China            NaN         1/21/2020    NaN     0.0   \n",
       "\n",
       "  Last Update Province/State  Recovered  Suspected  Unnamed: 0  \n",
       "0         NaN       Shanghai        0.0       10.0         0.0  \n",
       "1         NaN         Yunnan        0.0        0.0         1.0  \n",
       "2         NaN        Beijing        0.0        0.0         2.0  \n",
       "3         NaN         Taiwan        0.0        0.0         3.0  \n",
       "4         NaN          Jilin        0.0        1.0         4.0  "
      ]
     },
     "execution_count": 4,
     "metadata": {},
     "output_type": "execute_result"
    }
   ],
   "source": [
    "df.head()"
   ]
  },
  {
   "cell_type": "code",
   "execution_count": 5,
   "metadata": {},
   "outputs": [
    {
     "name": "stdout",
     "output_type": "stream",
     "text": [
      "<class 'pandas.core.frame.DataFrame'>\n",
      "Int64Index: 8868 entries, 0 to 1876\n",
      "Data columns (total 11 columns):\n",
      "Confirmed            8659 non-null float64\n",
      "Country              368 non-null object\n",
      "Country/Region       8500 non-null object\n",
      "Date last updated    368 non-null object\n",
      "Death                2386 non-null float64\n",
      "Deaths               368 non-null float64\n",
      "Last Update          8500 non-null object\n",
      "Province/State       6971 non-null object\n",
      "Recovered            3410 non-null float64\n",
      "Suspected            984 non-null float64\n",
      "Unnamed: 0           368 non-null float64\n",
      "dtypes: float64(6), object(5)\n",
      "memory usage: 831.4+ KB\n"
     ]
    }
   ],
   "source": [
    "df.info()"
   ]
  },
  {
   "cell_type": "code",
   "execution_count": 6,
   "metadata": {
    "scrolled": true
   },
   "outputs": [
    {
     "name": "stdout",
     "output_type": "stream",
     "text": [
      "<class 'pandas.core.frame.DataFrame'>\n",
      "Int64Index: 8868 entries, 0 to 1876\n",
      "Data columns (total 7 columns):\n",
      "Confirmed         8868 non-null float64\n",
      "Country           8868 non-null object\n",
      "Death             8868 non-null float64\n",
      "Last Update       8868 non-null object\n",
      "Province/State    6971 non-null object\n",
      "Recovered         8868 non-null float64\n",
      "Suspected         8868 non-null float64\n",
      "dtypes: float64(4), object(3)\n",
      "memory usage: 554.2+ KB\n"
     ]
    }
   ],
   "source": [
    "#fill null values of country with Country/Region\n",
    "df['Country'] = df['Country'].fillna('')\n",
    "df['Country'] = df.apply(lambda row: row['Country/Region'] if not row.Country else row.Country, axis = 1)\n",
    "\n",
    "#fill null values of last update with date last updated\n",
    "df['Last Update'] = df['Last Update'].fillna('')\n",
    "df['Last Update'] = df.apply(lambda row: row['Date last updated'] if not row['Last Update'] else row['Last Update'], axis = 1)\n",
    "\n",
    "#filled null of death with 0 or Deaths Feature value\n",
    "df['Death'] = df['Death'].fillna(0)\n",
    "df['Death'] = df.apply(lambda row: row['Deaths'] if row.Deaths > 0 else row.Death, axis = 1)\n",
    "\n",
    "#filled null values of Confirmed, Recovered, and Suspected with 0\n",
    "df['Confirmed'] = df['Confirmed'].fillna(0)\n",
    "df['Recovered'] = df['Recovered'].fillna(0)\n",
    "df['Suspected'] = df['Suspected'].fillna(0)\n",
    "\n",
    "#drop the unused columns\n",
    "df = df.drop(columns = ['Date last updated', 'Country/Region', 'Deaths', 'Unnamed: 0'])\n",
    "\n",
    "df.info()"
   ]
  },
  {
   "cell_type": "code",
   "execution_count": 7,
   "metadata": {},
   "outputs": [
    {
     "name": "stdout",
     "output_type": "stream",
     "text": [
      "<class 'pandas.core.frame.DataFrame'>\n",
      "Int64Index: 8868 entries, 0 to 1876\n",
      "Data columns (total 7 columns):\n",
      "Confirmed         8868 non-null float64\n",
      "Country           8868 non-null object\n",
      "Death             8868 non-null float64\n",
      "Last Update       8868 non-null datetime64[ns]\n",
      "Province/State    6971 non-null object\n",
      "Recovered         8868 non-null float64\n",
      "Suspected         8868 non-null float64\n",
      "dtypes: datetime64[ns](1), float64(4), object(2)\n",
      "memory usage: 554.2+ KB\n"
     ]
    }
   ],
   "source": [
    "#change last update to datetime\n",
    "df['Last Update'] = pd.to_datetime(df['Last Update'])\n",
    "df.info()"
   ]
  },
  {
   "cell_type": "code",
   "execution_count": 8,
   "metadata": {},
   "outputs": [],
   "source": [
    "df.to_csv('../Data/Processed/Processed.csv')"
   ]
  },
  {
   "cell_type": "code",
   "execution_count": null,
   "metadata": {},
   "outputs": [],
   "source": []
  }
 ],
 "metadata": {
  "kernelspec": {
   "display_name": "Python 3",
   "language": "python",
   "name": "python3"
  },
  "language_info": {
   "codemirror_mode": {
    "name": "ipython",
    "version": 3
   },
   "file_extension": ".py",
   "mimetype": "text/x-python",
   "name": "python",
   "nbconvert_exporter": "python",
   "pygments_lexer": "ipython3",
   "version": "3.7.6"
  }
 },
 "nbformat": 4,
 "nbformat_minor": 2
}
