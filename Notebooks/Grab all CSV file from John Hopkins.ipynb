{
 "cells": [
  {
   "cell_type": "code",
   "execution_count": 1,
   "metadata": {},
   "outputs": [],
   "source": [
    "import requests\n",
    "import datetime as dt\n",
    "import os"
   ]
  },
  {
   "cell_type": "code",
   "execution_count": 2,
   "metadata": {},
   "outputs": [],
   "source": [
    "#move to different file location\n",
    "os.chdir('../Data/Raw')"
   ]
  },
  {
   "cell_type": "code",
   "execution_count": 3,
   "metadata": {},
   "outputs": [
    {
     "name": "stdout",
     "output_type": "stream",
     "text": [
      "Number of days: 149\n"
     ]
    }
   ],
   "source": [
    "#define start date of data collection\n",
    "date1 = '01-22-2020'\n",
    "start = dt.datetime.strptime(date1, '%m-%d-%Y')\n",
    "start = start.date()\n",
    "\n",
    "#define today's date\n",
    "end = dt.date.today()\n",
    "\n",
    "#create increment of days and a list to store dates\n",
    "step = dt.timedelta(days = 1)\n",
    "datelist = []\n",
    "\n",
    "#create function that accurately portrays the date format for the files\n",
    "while start < end:\n",
    "    day = '0' + str(start.day)\n",
    "    day = day[-2:]\n",
    "    month = '0' + str(start.month)\n",
    "    month = month[-2:]\n",
    "    year = str(start.year)\n",
    "    datelist.append(str(month + '-' + day + '-' + year))\n",
    "    start += step\n",
    "print('Number of days: {}'.format(len(datelist)))"
   ]
  },
  {
   "cell_type": "code",
   "execution_count": 4,
   "metadata": {},
   "outputs": [],
   "source": [
    "#define url\n",
    "url = 'https://raw.githubusercontent.com/CSSEGISandData/COVID-19/master/csse_covid_19_data/csse_covid_19_daily_reports/{}.csv'\n",
    "\n",
    "#build status code to check if all files have been sucessfully downloaded\n",
    "status_code = []\n",
    "for date in datelist:\n",
    "    #get the file and save the file\n",
    "    file = requests.get(url = url.format(date))\n",
    "    open(date+'.csv', 'wb').write(file.content)\n",
    "    status_code.append(file.status_code)"
   ]
  },
  {
   "cell_type": "code",
   "execution_count": 5,
   "metadata": {},
   "outputs": [
    {
     "name": "stdout",
     "output_type": "stream",
     "text": [
      "True\n"
     ]
    }
   ],
   "source": [
    "#check to see if all files were downloaded correctly\n",
    "check = map(lambda x: True if x == 200 else False, status_code)\n",
    "print(all(list(check)))"
   ]
  },
  {
   "cell_type": "code",
   "execution_count": null,
   "metadata": {},
   "outputs": [],
   "source": []
  }
 ],
 "metadata": {
  "kernelspec": {
   "display_name": "Python 3",
   "language": "python",
   "name": "python3"
  },
  "language_info": {
   "codemirror_mode": {
    "name": "ipython",
    "version": 3
   },
   "file_extension": ".py",
   "mimetype": "text/x-python",
   "name": "python",
   "nbconvert_exporter": "python",
   "pygments_lexer": "ipython3",
   "version": "3.7.7"
  }
 },
 "nbformat": 4,
 "nbformat_minor": 4
}
