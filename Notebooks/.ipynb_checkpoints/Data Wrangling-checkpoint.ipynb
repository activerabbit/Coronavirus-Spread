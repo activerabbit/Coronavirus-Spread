{
 "cells": [
  {
   "cell_type": "code",
   "execution_count": 1,
   "metadata": {},
   "outputs": [],
   "source": [
    "import pandas as pd\n",
    "import numpy as np"
   ]
  },
  {
   "cell_type": "code",
   "execution_count": 2,
   "metadata": {},
   "outputs": [],
   "source": [
    "#set up path to all the files\n",
    "path = '../Data/Raw/covid_19_data 20200307.csv'\n",
    "df = pd.read_csv(path)"
   ]
  },
  {
   "cell_type": "code",
   "execution_count": 3,
   "metadata": {},
   "outputs": [
    {
     "data": {
      "text/html": [
       "<div>\n",
       "<style scoped>\n",
       "    .dataframe tbody tr th:only-of-type {\n",
       "        vertical-align: middle;\n",
       "    }\n",
       "\n",
       "    .dataframe tbody tr th {\n",
       "        vertical-align: top;\n",
       "    }\n",
       "\n",
       "    .dataframe thead th {\n",
       "        text-align: right;\n",
       "    }\n",
       "</style>\n",
       "<table border=\"1\" class=\"dataframe\">\n",
       "  <thead>\n",
       "    <tr style=\"text-align: right;\">\n",
       "      <th></th>\n",
       "      <th>SNo</th>\n",
       "      <th>ObservationDate</th>\n",
       "      <th>Province/State</th>\n",
       "      <th>Country/Region</th>\n",
       "      <th>Last Update</th>\n",
       "      <th>Confirmed</th>\n",
       "      <th>Deaths</th>\n",
       "      <th>Recovered</th>\n",
       "    </tr>\n",
       "  </thead>\n",
       "  <tbody>\n",
       "    <tr>\n",
       "      <th>0</th>\n",
       "      <td>1</td>\n",
       "      <td>01/22/2020</td>\n",
       "      <td>Anhui</td>\n",
       "      <td>Mainland China</td>\n",
       "      <td>1/22/2020 17:00</td>\n",
       "      <td>1.0</td>\n",
       "      <td>0.0</td>\n",
       "      <td>0.0</td>\n",
       "    </tr>\n",
       "    <tr>\n",
       "      <th>1</th>\n",
       "      <td>2</td>\n",
       "      <td>01/22/2020</td>\n",
       "      <td>Beijing</td>\n",
       "      <td>Mainland China</td>\n",
       "      <td>1/22/2020 17:00</td>\n",
       "      <td>14.0</td>\n",
       "      <td>0.0</td>\n",
       "      <td>0.0</td>\n",
       "    </tr>\n",
       "    <tr>\n",
       "      <th>2</th>\n",
       "      <td>3</td>\n",
       "      <td>01/22/2020</td>\n",
       "      <td>Chongqing</td>\n",
       "      <td>Mainland China</td>\n",
       "      <td>1/22/2020 17:00</td>\n",
       "      <td>6.0</td>\n",
       "      <td>0.0</td>\n",
       "      <td>0.0</td>\n",
       "    </tr>\n",
       "    <tr>\n",
       "      <th>3</th>\n",
       "      <td>4</td>\n",
       "      <td>01/22/2020</td>\n",
       "      <td>Fujian</td>\n",
       "      <td>Mainland China</td>\n",
       "      <td>1/22/2020 17:00</td>\n",
       "      <td>1.0</td>\n",
       "      <td>0.0</td>\n",
       "      <td>0.0</td>\n",
       "    </tr>\n",
       "    <tr>\n",
       "      <th>4</th>\n",
       "      <td>5</td>\n",
       "      <td>01/22/2020</td>\n",
       "      <td>Gansu</td>\n",
       "      <td>Mainland China</td>\n",
       "      <td>1/22/2020 17:00</td>\n",
       "      <td>0.0</td>\n",
       "      <td>0.0</td>\n",
       "      <td>0.0</td>\n",
       "    </tr>\n",
       "  </tbody>\n",
       "</table>\n",
       "</div>"
      ],
      "text/plain": [
       "   SNo ObservationDate Province/State  Country/Region      Last Update  \\\n",
       "0    1      01/22/2020          Anhui  Mainland China  1/22/2020 17:00   \n",
       "1    2      01/22/2020        Beijing  Mainland China  1/22/2020 17:00   \n",
       "2    3      01/22/2020      Chongqing  Mainland China  1/22/2020 17:00   \n",
       "3    4      01/22/2020         Fujian  Mainland China  1/22/2020 17:00   \n",
       "4    5      01/22/2020          Gansu  Mainland China  1/22/2020 17:00   \n",
       "\n",
       "   Confirmed  Deaths  Recovered  \n",
       "0        1.0     0.0        0.0  \n",
       "1       14.0     0.0        0.0  \n",
       "2        6.0     0.0        0.0  \n",
       "3        1.0     0.0        0.0  \n",
       "4        0.0     0.0        0.0  "
      ]
     },
     "execution_count": 3,
     "metadata": {},
     "output_type": "execute_result"
    }
   ],
   "source": [
    "df.head()"
   ]
  },
  {
   "cell_type": "code",
   "execution_count": 4,
   "metadata": {},
   "outputs": [
    {
     "name": "stdout",
     "output_type": "stream",
     "text": [
      "<class 'pandas.core.frame.DataFrame'>\n",
      "RangeIndex: 3992 entries, 0 to 3991\n",
      "Data columns (total 8 columns):\n",
      "SNo                3992 non-null int64\n",
      "ObservationDate    3992 non-null object\n",
      "Province/State     2594 non-null object\n",
      "Country/Region     3992 non-null object\n",
      "Last Update        3992 non-null object\n",
      "Confirmed          3992 non-null float64\n",
      "Deaths             3992 non-null float64\n",
      "Recovered          3992 non-null float64\n",
      "dtypes: float64(3), int64(1), object(4)\n",
      "memory usage: 249.6+ KB\n"
     ]
    }
   ],
   "source": [
    "df.info()"
   ]
  },
  {
   "cell_type": "code",
   "execution_count": 5,
   "metadata": {},
   "outputs": [
    {
     "name": "stdout",
     "output_type": "stream",
     "text": [
      "<class 'pandas.core.frame.DataFrame'>\n",
      "RangeIndex: 3992 entries, 0 to 3991\n",
      "Data columns (total 8 columns):\n",
      "SNo                3992 non-null int64\n",
      "ObservationDate    3992 non-null datetime64[ns]\n",
      "Province/State     2594 non-null object\n",
      "Country/Region     3992 non-null object\n",
      "Last Update        3992 non-null datetime64[ns]\n",
      "Confirmed          3992 non-null float64\n",
      "Deaths             3992 non-null float64\n",
      "Recovered          3992 non-null float64\n",
      "dtypes: datetime64[ns](2), float64(3), int64(1), object(2)\n",
      "memory usage: 249.6+ KB\n"
     ]
    }
   ],
   "source": [
    "#change last update to datetime\n",
    "df['ObservationDate'] = pd.to_datetime(df['ObservationDate'])\n",
    "df['Last Update'] = pd.to_datetime(df['Last Update'])\n",
    "df.info()"
   ]
  },
  {
   "cell_type": "code",
   "execution_count": 6,
   "metadata": {},
   "outputs": [
    {
     "name": "stdout",
     "output_type": "stream",
     "text": [
      "Remove list is empty False\n"
     ]
    }
   ],
   "source": [
    "#remove rows where confirmed, suspected, recovered and death is all 0\n",
    "\n",
    "remove_list = []\n",
    "\n",
    "for ind, row in df.iterrows():\n",
    "    if (row.Confirmed == 0 and row.Recovered == 0 and row.Deaths == 0):\n",
    "        remove_list.append(ind)\n",
    "\n",
    "if not remove_list:\n",
    "    boolean = True\n",
    "else:\n",
    "    boolean = False\n",
    "print('Remove list is empty {}'.format(boolean))"
   ]
  },
  {
   "cell_type": "code",
   "execution_count": 7,
   "metadata": {},
   "outputs": [],
   "source": [
    "#remove all items that have 0 confirmed, deaths and recovered\n",
    "df = df.drop(remove_list)\n",
    "df = df.reset_index()\n",
    "df = df.drop(columns = ['index', 'SNo'])"
   ]
  },
  {
   "cell_type": "code",
   "execution_count": 8,
   "metadata": {},
   "outputs": [],
   "source": [
    "#first we should sort the values by ObservationDate\n",
    "df = df.sort_values('ObservationDate').reset_index()\n",
    "df = df.drop(columns = ['index'])"
   ]
  },
  {
   "cell_type": "code",
   "execution_count": 9,
   "metadata": {
    "scrolled": true
   },
   "outputs": [
    {
     "name": "stdout",
     "output_type": "stream",
     "text": [
      "['Anhui' nan 'Zhejiang' 'Yunnan' 'Tianjin' 'Taiwan' 'Sichuan' 'Shanxi'\n",
      " 'Shanghai' 'Shandong' 'Ningxia' 'Macau' 'Washington' 'Jiangxi' 'Liaoning'\n",
      " 'Beijing' 'Chongqing' 'Fujian' 'Guangxi' 'Guizhou' 'Guangdong' 'Hebei'\n",
      " 'Henan' 'Hubei' 'Hunan' 'Jiangsu' 'Hainan']\n"
     ]
    },
    {
     "data": {
      "text/plain": [
       "False"
      ]
     },
     "execution_count": 9,
     "metadata": {},
     "output_type": "execute_result"
    }
   ],
   "source": [
    "#Verify if data is consistent with data for all days\n",
    "verification_array = df[df['ObservationDate'] == '01/22/2020']['Province/State'].unique()\n",
    "\n",
    "print(verification_array)\n",
    "\n",
    "len_first = len(df[df['Province/State'] == verification_array[0]])\n",
    "\n",
    "check_list = []\n",
    "\n",
    "#check if the length of days is the same for all to verify the data is kept updated with latest information\n",
    "for state in verification_array[1:]:\n",
    "    #nan is ignored and given an arbitary boolean\n",
    "    if type(state) == str:\n",
    "        len_state = len(df[df['Province/State'] == state])\n",
    "        boolean = len_first == len_state\n",
    "    check_list.append(boolean)\n",
    "all(check_list)"
   ]
  },
  {
   "cell_type": "code",
   "execution_count": 10,
   "metadata": {},
   "outputs": [
    {
     "name": "stdout",
     "output_type": "stream",
     "text": [
      "nan\n",
      "Washington\n"
     ]
    }
   ],
   "source": [
    "#check what is wrong with array\n",
    "for ind, boolean in enumerate(check_list):\n",
    "    if not boolean:\n",
    "        print(verification_array[ind+1])"
   ]
  },
  {
   "cell_type": "code",
   "execution_count": 11,
   "metadata": {},
   "outputs": [
    {
     "data": {
      "text/html": [
       "<div>\n",
       "<style scoped>\n",
       "    .dataframe tbody tr th:only-of-type {\n",
       "        vertical-align: middle;\n",
       "    }\n",
       "\n",
       "    .dataframe tbody tr th {\n",
       "        vertical-align: top;\n",
       "    }\n",
       "\n",
       "    .dataframe thead th {\n",
       "        text-align: right;\n",
       "    }\n",
       "</style>\n",
       "<table border=\"1\" class=\"dataframe\">\n",
       "  <thead>\n",
       "    <tr style=\"text-align: right;\">\n",
       "      <th></th>\n",
       "      <th>ObservationDate</th>\n",
       "      <th>Province/State</th>\n",
       "      <th>Country/Region</th>\n",
       "      <th>Last Update</th>\n",
       "      <th>Confirmed</th>\n",
       "      <th>Deaths</th>\n",
       "      <th>Recovered</th>\n",
       "    </tr>\n",
       "  </thead>\n",
       "  <tbody>\n",
       "    <tr>\n",
       "      <th>14</th>\n",
       "      <td>2020-01-22</td>\n",
       "      <td>Washington</td>\n",
       "      <td>US</td>\n",
       "      <td>2020-01-22 17:00:00</td>\n",
       "      <td>1.0</td>\n",
       "      <td>0.0</td>\n",
       "      <td>0.0</td>\n",
       "    </tr>\n",
       "    <tr>\n",
       "      <th>45</th>\n",
       "      <td>2020-01-23</td>\n",
       "      <td>Washington</td>\n",
       "      <td>US</td>\n",
       "      <td>2020-01-23 17:00:00</td>\n",
       "      <td>1.0</td>\n",
       "      <td>0.0</td>\n",
       "      <td>0.0</td>\n",
       "    </tr>\n",
       "    <tr>\n",
       "      <th>76</th>\n",
       "      <td>2020-01-24</td>\n",
       "      <td>Washington</td>\n",
       "      <td>US</td>\n",
       "      <td>2020-01-24 17:00:00</td>\n",
       "      <td>1.0</td>\n",
       "      <td>0.0</td>\n",
       "      <td>0.0</td>\n",
       "    </tr>\n",
       "    <tr>\n",
       "      <th>114</th>\n",
       "      <td>2020-01-25</td>\n",
       "      <td>Washington</td>\n",
       "      <td>US</td>\n",
       "      <td>2020-01-25 17:00:00</td>\n",
       "      <td>1.0</td>\n",
       "      <td>0.0</td>\n",
       "      <td>0.0</td>\n",
       "    </tr>\n",
       "    <tr>\n",
       "      <th>158</th>\n",
       "      <td>2020-01-26</td>\n",
       "      <td>Washington</td>\n",
       "      <td>US</td>\n",
       "      <td>2020-01-26 16:00:00</td>\n",
       "      <td>1.0</td>\n",
       "      <td>0.0</td>\n",
       "      <td>0.0</td>\n",
       "    </tr>\n",
       "    <tr>\n",
       "      <th>197</th>\n",
       "      <td>2020-01-27</td>\n",
       "      <td>Washington</td>\n",
       "      <td>US</td>\n",
       "      <td>2020-01-27 23:59:00</td>\n",
       "      <td>1.0</td>\n",
       "      <td>0.0</td>\n",
       "      <td>0.0</td>\n",
       "    </tr>\n",
       "    <tr>\n",
       "      <th>252</th>\n",
       "      <td>2020-01-28</td>\n",
       "      <td>Washington</td>\n",
       "      <td>US</td>\n",
       "      <td>2020-01-28 23:00:00</td>\n",
       "      <td>1.0</td>\n",
       "      <td>0.0</td>\n",
       "      <td>0.0</td>\n",
       "    </tr>\n",
       "    <tr>\n",
       "      <th>305</th>\n",
       "      <td>2020-01-29</td>\n",
       "      <td>Washington</td>\n",
       "      <td>US</td>\n",
       "      <td>2020-01-29 19:30:00</td>\n",
       "      <td>1.0</td>\n",
       "      <td>0.0</td>\n",
       "      <td>0.0</td>\n",
       "    </tr>\n",
       "    <tr>\n",
       "      <th>361</th>\n",
       "      <td>2020-01-30</td>\n",
       "      <td>Washington</td>\n",
       "      <td>US</td>\n",
       "      <td>2020-01-30 16:00:00</td>\n",
       "      <td>1.0</td>\n",
       "      <td>0.0</td>\n",
       "      <td>0.0</td>\n",
       "    </tr>\n",
       "    <tr>\n",
       "      <th>431</th>\n",
       "      <td>2020-01-31</td>\n",
       "      <td>Washington</td>\n",
       "      <td>US</td>\n",
       "      <td>2020-01-31 23:59:00</td>\n",
       "      <td>1.0</td>\n",
       "      <td>0.0</td>\n",
       "      <td>0.0</td>\n",
       "    </tr>\n",
       "  </tbody>\n",
       "</table>\n",
       "</div>"
      ],
      "text/plain": [
       "    ObservationDate Province/State Country/Region         Last Update  \\\n",
       "14       2020-01-22     Washington             US 2020-01-22 17:00:00   \n",
       "45       2020-01-23     Washington             US 2020-01-23 17:00:00   \n",
       "76       2020-01-24     Washington             US 2020-01-24 17:00:00   \n",
       "114      2020-01-25     Washington             US 2020-01-25 17:00:00   \n",
       "158      2020-01-26     Washington             US 2020-01-26 16:00:00   \n",
       "197      2020-01-27     Washington             US 2020-01-27 23:59:00   \n",
       "252      2020-01-28     Washington             US 2020-01-28 23:00:00   \n",
       "305      2020-01-29     Washington             US 2020-01-29 19:30:00   \n",
       "361      2020-01-30     Washington             US 2020-01-30 16:00:00   \n",
       "431      2020-01-31     Washington             US 2020-01-31 23:59:00   \n",
       "\n",
       "     Confirmed  Deaths  Recovered  \n",
       "14         1.0     0.0        0.0  \n",
       "45         1.0     0.0        0.0  \n",
       "76         1.0     0.0        0.0  \n",
       "114        1.0     0.0        0.0  \n",
       "158        1.0     0.0        0.0  \n",
       "197        1.0     0.0        0.0  \n",
       "252        1.0     0.0        0.0  \n",
       "305        1.0     0.0        0.0  \n",
       "361        1.0     0.0        0.0  \n",
       "431        1.0     0.0        0.0  "
      ]
     },
     "execution_count": 11,
     "metadata": {},
     "output_type": "execute_result"
    }
   ],
   "source": [
    "#take a look at Washington\n",
    "#shows there is inconsistent update to data and could result in incorrect sums\n",
    "df[df['Province/State'] == 'Washington']"
   ]
  },
  {
   "cell_type": "code",
   "execution_count": 12,
   "metadata": {},
   "outputs": [],
   "source": [
    "#function to fix the inconsistency by forward filling values of missing location during each time frame\n",
    "\n",
    "\n",
    "#create a dictionary to update the new dataframe\n",
    "update = {}\n",
    "\n",
    "#inital state of dataframe\n",
    "new_df = {'Province/State': [], 'Country/Region': [], 'ObservationDate': [], \n",
    "          'Last Update': [], 'Confirmed': [], 'Recovered':[], 'Deaths': []}\n",
    "\n",
    "#the current time\n",
    "curr = df['ObservationDate'][0]\n",
    "\n",
    "#loop through the dataframe and if the ObservationDate time does not equal to current time we update the new dataframe \n",
    "for index, row in df.iterrows():\n",
    "    if curr != row['ObservationDate']:\n",
    "        \n",
    "        #loop through the dictionary and update the all ObservationDate with curr\n",
    "        for key1, value1 in update.items():\n",
    "            update[key1]['ObservationDate'] = curr\n",
    "\n",
    "            #loopthough the dictionary inside update dictionary and append the values onto the new dataframe\n",
    "            for key2, value2 in value1.items():\n",
    "                new_df[key2].append(value2)\n",
    "            \n",
    "        #update the current time to the new update        \n",
    "        curr = row['ObservationDate']\n",
    "        \n",
    "    #add the values to updated dataframe\n",
    "    key = (row['Province/State'], row['Country/Region'])\n",
    "    update[key] = row\n",
    "\n",
    "#the last part is missing from data is should be updated\n",
    "for key1, value1 in update.items():\n",
    "            update[key1]['ObservationDate'] = curr\n",
    "            for key2, value2 in value1.items():\n",
    "                new_df[key2].append(value2)"
   ]
  },
  {
   "cell_type": "code",
   "execution_count": 13,
   "metadata": {},
   "outputs": [
    {
     "data": {
      "text/html": [
       "<div>\n",
       "<style scoped>\n",
       "    .dataframe tbody tr th:only-of-type {\n",
       "        vertical-align: middle;\n",
       "    }\n",
       "\n",
       "    .dataframe tbody tr th {\n",
       "        vertical-align: top;\n",
       "    }\n",
       "\n",
       "    .dataframe thead th {\n",
       "        text-align: right;\n",
       "    }\n",
       "</style>\n",
       "<table border=\"1\" class=\"dataframe\">\n",
       "  <thead>\n",
       "    <tr style=\"text-align: right;\">\n",
       "      <th></th>\n",
       "      <th>Province/State</th>\n",
       "      <th>Country/Region</th>\n",
       "      <th>ObservationDate</th>\n",
       "      <th>Last Update</th>\n",
       "      <th>Confirmed</th>\n",
       "      <th>Recovered</th>\n",
       "      <th>Deaths</th>\n",
       "    </tr>\n",
       "  </thead>\n",
       "  <tbody>\n",
       "    <tr>\n",
       "      <th>0</th>\n",
       "      <td>Anhui</td>\n",
       "      <td>Mainland China</td>\n",
       "      <td>2020-01-22</td>\n",
       "      <td>2020-01-22 17:00:00</td>\n",
       "      <td>1.0</td>\n",
       "      <td>0.0</td>\n",
       "      <td>0.0</td>\n",
       "    </tr>\n",
       "    <tr>\n",
       "      <th>1</th>\n",
       "      <td>NaN</td>\n",
       "      <td>South Korea</td>\n",
       "      <td>2020-01-22</td>\n",
       "      <td>2020-01-22 17:00:00</td>\n",
       "      <td>1.0</td>\n",
       "      <td>0.0</td>\n",
       "      <td>0.0</td>\n",
       "    </tr>\n",
       "    <tr>\n",
       "      <th>2</th>\n",
       "      <td>NaN</td>\n",
       "      <td>Thailand</td>\n",
       "      <td>2020-01-22</td>\n",
       "      <td>2020-01-22 17:00:00</td>\n",
       "      <td>2.0</td>\n",
       "      <td>0.0</td>\n",
       "      <td>0.0</td>\n",
       "    </tr>\n",
       "    <tr>\n",
       "      <th>3</th>\n",
       "      <td>NaN</td>\n",
       "      <td>Japan</td>\n",
       "      <td>2020-01-22</td>\n",
       "      <td>2020-01-22 17:00:00</td>\n",
       "      <td>2.0</td>\n",
       "      <td>0.0</td>\n",
       "      <td>0.0</td>\n",
       "    </tr>\n",
       "    <tr>\n",
       "      <th>4</th>\n",
       "      <td>Zhejiang</td>\n",
       "      <td>Mainland China</td>\n",
       "      <td>2020-01-22</td>\n",
       "      <td>2020-01-22 17:00:00</td>\n",
       "      <td>10.0</td>\n",
       "      <td>0.0</td>\n",
       "      <td>0.0</td>\n",
       "    </tr>\n",
       "  </tbody>\n",
       "</table>\n",
       "</div>"
      ],
      "text/plain": [
       "  Province/State  Country/Region ObservationDate         Last Update  \\\n",
       "0          Anhui  Mainland China      2020-01-22 2020-01-22 17:00:00   \n",
       "1            NaN     South Korea      2020-01-22 2020-01-22 17:00:00   \n",
       "2            NaN        Thailand      2020-01-22 2020-01-22 17:00:00   \n",
       "3            NaN           Japan      2020-01-22 2020-01-22 17:00:00   \n",
       "4       Zhejiang  Mainland China      2020-01-22 2020-01-22 17:00:00   \n",
       "\n",
       "   Confirmed  Recovered  Deaths  \n",
       "0        1.0        0.0     0.0  \n",
       "1        1.0        0.0     0.0  \n",
       "2        2.0        0.0     0.0  \n",
       "3        2.0        0.0     0.0  \n",
       "4       10.0        0.0     0.0  "
      ]
     },
     "execution_count": 13,
     "metadata": {},
     "output_type": "execute_result"
    }
   ],
   "source": [
    "df = pd.DataFrame(new_df)\n",
    "df.head()"
   ]
  },
  {
   "cell_type": "code",
   "execution_count": 14,
   "metadata": {},
   "outputs": [
    {
     "name": "stdout",
     "output_type": "stream",
     "text": [
      "<class 'pandas.core.frame.DataFrame'>\n",
      "RangeIndex: 4466 entries, 0 to 4465\n",
      "Data columns (total 7 columns):\n",
      "Province/State     2977 non-null object\n",
      "Country/Region     4466 non-null object\n",
      "ObservationDate    4466 non-null datetime64[ns]\n",
      "Last Update        4466 non-null datetime64[ns]\n",
      "Confirmed          4466 non-null float64\n",
      "Recovered          4466 non-null float64\n",
      "Deaths             4466 non-null float64\n",
      "dtypes: datetime64[ns](2), float64(3), object(2)\n",
      "memory usage: 244.4+ KB\n"
     ]
    }
   ],
   "source": [
    "df.info()"
   ]
  },
  {
   "cell_type": "code",
   "execution_count": 15,
   "metadata": {},
   "outputs": [
    {
     "name": "stderr",
     "output_type": "stream",
     "text": [
      "C:\\Users\\sadmin\\Anaconda3\\lib\\site-packages\\ipykernel_launcher.py:11: SettingWithCopyWarning: \n",
      "A value is trying to be set on a copy of a slice from a DataFrame\n",
      "\n",
      "See the caveats in the documentation: http://pandas.pydata.org/pandas-docs/stable/user_guide/indexing.html#returning-a-view-versus-a-copy\n",
      "  # This is added back by InteractiveShellApp.init_path()\n",
      "C:\\Users\\sadmin\\Anaconda3\\lib\\site-packages\\ipykernel_launcher.py:12: SettingWithCopyWarning: \n",
      "A value is trying to be set on a copy of a slice from a DataFrame\n",
      "\n",
      "See the caveats in the documentation: http://pandas.pydata.org/pandas-docs/stable/user_guide/indexing.html#returning-a-view-versus-a-copy\n",
      "  if sys.path[0] == '':\n",
      "C:\\Users\\sadmin\\Anaconda3\\lib\\site-packages\\ipykernel_launcher.py:13: SettingWithCopyWarning: \n",
      "A value is trying to be set on a copy of a slice from a DataFrame\n",
      "\n",
      "See the caveats in the documentation: http://pandas.pydata.org/pandas-docs/stable/user_guide/indexing.html#returning-a-view-versus-a-copy\n",
      "  del sys.path[0]\n",
      "C:\\Users\\sadmin\\Anaconda3\\lib\\site-packages\\ipykernel_launcher.py:15: SettingWithCopyWarning: \n",
      "A value is trying to be set on a copy of a slice from a DataFrame\n",
      "\n",
      "See the caveats in the documentation: http://pandas.pydata.org/pandas-docs/stable/user_guide/indexing.html#returning-a-view-versus-a-copy\n",
      "  from ipykernel import kernelapp as app\n",
      "C:\\Users\\sadmin\\Anaconda3\\lib\\site-packages\\ipykernel_launcher.py:16: SettingWithCopyWarning: \n",
      "A value is trying to be set on a copy of a slice from a DataFrame\n",
      "\n",
      "See the caveats in the documentation: http://pandas.pydata.org/pandas-docs/stable/user_guide/indexing.html#returning-a-view-versus-a-copy\n",
      "  app.launch_new_instance()\n",
      "C:\\Users\\sadmin\\Anaconda3\\lib\\site-packages\\ipykernel_launcher.py:17: SettingWithCopyWarning: \n",
      "A value is trying to be set on a copy of a slice from a DataFrame\n",
      "\n",
      "See the caveats in the documentation: http://pandas.pydata.org/pandas-docs/stable/user_guide/indexing.html#returning-a-view-versus-a-copy\n"
     ]
    },
    {
     "name": "stdout",
     "output_type": "stream",
     "text": [
      "<class 'pandas.core.frame.DataFrame'>\n",
      "RangeIndex: 4466 entries, 0 to 4465\n",
      "Data columns (total 10 columns):\n",
      "Province/State      2977 non-null object\n",
      "Country/Region      4466 non-null object\n",
      "ObservationDate     4466 non-null datetime64[ns]\n",
      "Last Update         4466 non-null datetime64[ns]\n",
      "Confirmed           4466 non-null float64\n",
      "Recovered           4466 non-null float64\n",
      "Deaths              4466 non-null float64\n",
      "Confirmed_Change    4466 non-null float64\n",
      "Recovered_Change    4466 non-null float64\n",
      "Deaths_Change       4466 non-null float64\n",
      "dtypes: datetime64[ns](2), float64(6), object(2)\n",
      "memory usage: 349.0+ KB\n"
     ]
    }
   ],
   "source": [
    "#Feature Engineer change column\n",
    "df['Confirmed_Change'] = np.nan\n",
    "df['Recovered_Change'] = np.nan\n",
    "df['Deaths_Change'] = np.nan\n",
    "\n",
    "tracking_dictionary = {}\n",
    "\n",
    "for ind, row in df.iterrows():\n",
    "    key = (row['Country/Region'], row['Province/State'])\n",
    "    if key not in tracking_dictionary:\n",
    "        df['Confirmed_Change'][ind] = row['Confirmed']\n",
    "        df['Recovered_Change'][ind] = row['Recovered']\n",
    "        df['Deaths_Change'][ind] = row['Deaths']\n",
    "    else:\n",
    "        df['Confirmed_Change'][ind] = row['Confirmed'] - tracking_dictionary[key][0]\n",
    "        df['Recovered_Change'][ind] = row['Recovered'] - tracking_dictionary[key][1]\n",
    "        df['Deaths_Change'][ind] = row['Deaths'] - tracking_dictionary[key][2]\n",
    "    tracking_dictionary[key] = (row['Confirmed'], row['Recovered'], row['Deaths'])\n",
    "df.info()"
   ]
  },
  {
   "cell_type": "code",
   "execution_count": 16,
   "metadata": {},
   "outputs": [],
   "source": [
    "df.to_csv('../Data/Processed/Processed.csv')"
   ]
  },
  {
   "cell_type": "code",
   "execution_count": null,
   "metadata": {},
   "outputs": [],
   "source": []
  }
 ],
 "metadata": {
  "kernelspec": {
   "display_name": "Python 3",
   "language": "python",
   "name": "python3"
  },
  "language_info": {
   "codemirror_mode": {
    "name": "ipython",
    "version": 3
   },
   "file_extension": ".py",
   "mimetype": "text/x-python",
   "name": "python",
   "nbconvert_exporter": "python",
   "pygments_lexer": "ipython3",
   "version": "3.7.6"
  }
 },
 "nbformat": 4,
 "nbformat_minor": 2
}
